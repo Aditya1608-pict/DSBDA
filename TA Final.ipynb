{
 "cells": [
  {
   "cell_type": "code",
   "execution_count": 2,
   "id": "437bf56e",
   "metadata": {},
   "outputs": [],
   "source": [
    "import nltk\n",
    "from nltk.corpus import stopwords\n",
    "from nltk.tokenize import word_tokenize,sent_tokenize\n",
    "from nltk.stem import PorterStemmer, WordNetLemmatizer\n",
    "from nltk import pos_tag\n",
    "from sklearn.feature_extraction.text import TfidfVectorizer "
   ]
  },
  {
   "cell_type": "code",
   "execution_count": 3,
   "id": "5941f07d",
   "metadata": {},
   "outputs": [
    {
     "name": "stdout",
     "output_type": "stream",
     "text": [
      "Requirement already satisfied: nltk in c:\\users\\aditya\\anaconda3\\new folder\\lib\\site-packages (3.7)\n",
      "Requirement already satisfied: click in c:\\users\\aditya\\anaconda3\\new folder\\lib\\site-packages (from nltk) (8.0.4)\n",
      "Requirement already satisfied: tqdm in c:\\users\\aditya\\anaconda3\\new folder\\lib\\site-packages (from nltk) (4.64.1)\n",
      "Requirement already satisfied: regex>=2021.8.3 in c:\\users\\aditya\\anaconda3\\new folder\\lib\\site-packages (from nltk) (2022.7.9)\n",
      "Requirement already satisfied: joblib in c:\\users\\aditya\\anaconda3\\new folder\\lib\\site-packages (from nltk) (1.1.1)\n",
      "Requirement already satisfied: colorama in c:\\users\\aditya\\anaconda3\\new folder\\lib\\site-packages (from click->nltk) (0.4.6)\n",
      "Note: you may need to restart the kernel to use updated packages.\n"
     ]
    }
   ],
   "source": [
    "pip install nltk"
   ]
  },
  {
   "cell_type": "code",
   "execution_count": 5,
   "id": "9e2f544b",
   "metadata": {},
   "outputs": [
    {
     "name": "stderr",
     "output_type": "stream",
     "text": [
      "[nltk_data] Downloading package punkt to\n",
      "[nltk_data]     C:\\Users\\Aditya\\AppData\\Roaming\\nltk_data...\n",
      "[nltk_data]   Unzipping tokenizers\\punkt.zip.\n"
     ]
    },
    {
     "data": {
      "text/plain": [
       "True"
      ]
     },
     "execution_count": 5,
     "metadata": {},
     "output_type": "execute_result"
    }
   ],
   "source": [
    "nltk.download('punkt')"
   ]
  },
  {
   "cell_type": "code",
   "execution_count": 7,
   "id": "940f0ad0",
   "metadata": {},
   "outputs": [
    {
     "name": "stderr",
     "output_type": "stream",
     "text": [
      "[nltk_data] Downloading package stopwords to\n",
      "[nltk_data]     C:\\Users\\Aditya\\AppData\\Roaming\\nltk_data...\n",
      "[nltk_data]   Unzipping corpora\\stopwords.zip.\n"
     ]
    },
    {
     "data": {
      "text/plain": [
       "True"
      ]
     },
     "execution_count": 7,
     "metadata": {},
     "output_type": "execute_result"
    }
   ],
   "source": [
    "nltk.download('stopwords')"
   ]
  },
  {
   "cell_type": "code",
   "execution_count": 8,
   "id": "1b4e5694",
   "metadata": {},
   "outputs": [],
   "source": [
    "file_path=\"one.txt\"\n",
    "with open(file_path,\"r\") as file:\n",
    "    document=file.read()"
   ]
  },
  {
   "cell_type": "code",
   "execution_count": 9,
   "id": "69dee128",
   "metadata": {},
   "outputs": [],
   "source": [
    "#Tokenization\n",
    "tokens=word_tokenize(document)\n",
    "sentences=sent_tokenize(document)"
   ]
  },
  {
   "cell_type": "code",
   "execution_count": 12,
   "id": "c69056c4",
   "metadata": {},
   "outputs": [
    {
     "name": "stderr",
     "output_type": "stream",
     "text": [
      "[nltk_data] Downloading package averaged_perceptron_tagger to\n",
      "[nltk_data]     C:\\Users\\Aditya\\AppData\\Roaming\\nltk_data...\n",
      "[nltk_data]   Unzipping taggers\\averaged_perceptron_tagger.zip.\n"
     ]
    },
    {
     "data": {
      "text/plain": [
       "True"
      ]
     },
     "execution_count": 12,
     "metadata": {},
     "output_type": "execute_result"
    }
   ],
   "source": [
    "nltk.download('averaged_perceptron_tagger')#"
   ]
  },
  {
   "cell_type": "code",
   "execution_count": 14,
   "id": "786f802d",
   "metadata": {},
   "outputs": [],
   "source": [
    "pos_tags=pos_tag(tokens)#Pos tagging "
   ]
  },
  {
   "cell_type": "code",
   "execution_count": 17,
   "id": "15a900f1",
   "metadata": {},
   "outputs": [],
   "source": [
    "stop_words=set(stopwords.words('english'))#Stopwords \n",
    "filtered_tokens=[]\n",
    "for token in tokens:\n",
    "    if token not in stop_words:\n",
    "        filtered_tokens.append(token)#"
   ]
  },
  {
   "cell_type": "code",
   "execution_count": 18,
   "id": "4fc19816",
   "metadata": {},
   "outputs": [],
   "source": [
    "stemmer=PorterStemmer()\n",
    "stemmed_tokens=[stemmer.stem(token) for token in filtered_tokens]"
   ]
  },
  {
   "cell_type": "code",
   "execution_count": 28,
   "id": "2800ce47",
   "metadata": {},
   "outputs": [
    {
     "name": "stderr",
     "output_type": "stream",
     "text": [
      "[nltk_data] Downloading package wordnet to\n",
      "[nltk_data]     C:\\Users\\Aditya\\AppData\\Roaming\\nltk_data...\n",
      "[nltk_data]   Package wordnet is already up-to-date!\n"
     ]
    },
    {
     "data": {
      "text/plain": [
       "True"
      ]
     },
     "execution_count": 28,
     "metadata": {},
     "output_type": "execute_result"
    }
   ],
   "source": [
    "nltk.download('wordnet')"
   ]
  },
  {
   "cell_type": "code",
   "execution_count": 40,
   "id": "3a9f7890",
   "metadata": {},
   "outputs": [
    {
     "name": "stderr",
     "output_type": "stream",
     "text": [
      "[nltk_data] Downloading package omw-1.4 to\n",
      "[nltk_data]     C:\\Users\\Aditya\\AppData\\Roaming\\nltk_data...\n"
     ]
    },
    {
     "data": {
      "text/plain": [
       "True"
      ]
     },
     "execution_count": 40,
     "metadata": {},
     "output_type": "execute_result"
    }
   ],
   "source": [
    "nltk.download('omw-1.4')#"
   ]
  },
  {
   "cell_type": "code",
   "execution_count": 41,
   "id": "587b7960",
   "metadata": {},
   "outputs": [],
   "source": [
    "lemmatizer=WordNetLemmatizer()#\n",
    "lemmatized_tokens=[lemmatizer.lemmatize(token) for token in filtered_tokens]"
   ]
  },
  {
   "cell_type": "code",
   "execution_count": 32,
   "id": "46d63354",
   "metadata": {},
   "outputs": [],
   "source": [
    "#TF-IDF\n",
    "documents=[document]\n",
    "vectorizer=TfidfVectorizer()\n",
    "tfid_matrix=vectorizer.fit_transform(documents)"
   ]
  },
  {
   "cell_type": "code",
   "execution_count": 37,
   "id": "0cedb7e9",
   "metadata": {},
   "outputs": [
    {
     "name": "stdout",
     "output_type": "stream",
     "text": [
      "TF-IDF matrix:  [[0.12224394 0.06985368 0.03492684 0.03492684 0.01746342 0.1746342\n",
      "  0.05239026 0.15717078 0.01746342 0.10478052 0.05239026 0.03492684\n",
      "  0.05239026 0.10478052 0.03492684 0.03492684 0.05239026 0.03492684\n",
      "  0.10478052 0.06985368 0.10478052 0.01746342 0.01746342 0.13970736\n",
      "  0.06985368 0.01746342 0.01746342 0.03492684 0.01746342 0.01746342\n",
      "  0.10478052 0.01746342 0.01746342 0.03492684 0.05239026 0.10478052\n",
      "  0.15717078 0.01746342 0.0873171  0.06985368 0.0873171  0.03492684\n",
      "  0.01746342 0.05239026 0.1746342  0.05239026 0.0873171  0.06985368\n",
      "  0.03492684 0.05239026 0.03492684 0.12224394 0.03492684 0.05239026\n",
      "  0.0873171  0.03492684 0.03492684 0.03492684 0.01746342 0.01746342\n",
      "  0.01746342 0.01746342 0.01746342 0.24448788 0.01746342 0.15717078\n",
      "  0.01746342 0.01746342 0.10478052 0.10478052 0.01746342 0.01746342\n",
      "  0.06985368 0.03492684 0.0873171  0.05239026 0.06985368 0.06985368\n",
      "  0.03492684 0.05239026 0.06985368 0.01746342 0.10478052 0.12224394\n",
      "  0.10478052 0.0873171  0.03492684 0.01746342 0.03492684 0.01746342\n",
      "  0.13970736 0.03492684 0.01746342 0.0873171  0.03492684 0.05239026\n",
      "  0.12224394 0.06985368 0.06985368 0.15717078 0.03492684 0.06985368\n",
      "  0.15717078 0.03492684 0.06985368 0.01746342 0.1746342  0.01746342\n",
      "  0.01746342 0.01746342 0.05239026 0.03492684 0.05239026 0.03492684\n",
      "  0.06985368 0.01746342 0.03492684 0.0873171  0.05239026 0.0873171\n",
      "  0.10478052 0.06985368 0.0873171  0.05239026 0.05239026 0.22702446\n",
      "  0.06985368 0.01746342 0.05239026 0.1746342  0.01746342 0.03492684\n",
      "  0.05239026 0.10478052 0.05239026 0.03492684 0.1746342  0.12224394\n",
      "  0.05239026 0.0873171  0.03492684 0.01746342 0.05239026 0.1746342\n",
      "  0.03492684 0.05239026 0.10478052 0.10478052 0.05239026 0.12224394\n",
      "  0.01746342 0.10478052 0.10478052 0.05239026]]\n",
      "Feature_names:  ['ac' 'accumsan' 'adipiscing' 'aenean' 'aliqua' 'aliquam' 'aliquet' 'amet'\n",
      " 'ante' 'arcu' 'at' 'augue' 'bibendum' 'blandit' 'commodo' 'condimentum'\n",
      " 'congue' 'consectetur' 'consequat' 'convallis' 'cras' 'cum' 'curabitur'\n",
      " 'cursus' 'diam' 'dictum' 'dictumst' 'dignissim' 'dis' 'do' 'dolor'\n",
      " 'dolore' 'donec' 'dui' 'duis' 'egestas' 'eget' 'eiusmod' 'elementum'\n",
      " 'elit' 'enim' 'erat' 'eros' 'est' 'et' 'etiam' 'eu' 'euismod' 'facilisi'\n",
      " 'facilisis' 'fames' 'faucibus' 'felis' 'fermentum' 'feugiat' 'fringilla'\n",
      " 'fusce' 'gravida' 'habitant' 'habitasse' 'hac' 'hendrerit' 'iaculis' 'id'\n",
      " 'imperdiet' 'in' 'incididunt' 'integer' 'interdum' 'ipsum' 'justo'\n",
      " 'labore' 'lacus' 'laoreet' 'lectus' 'libero' 'lobortis' 'lorem' 'luctus'\n",
      " 'maecenas' 'magna' 'magnis' 'malesuada' 'massa' 'mattis' 'mauris' 'metus'\n",
      " 'mi' 'molestie' 'mollis' 'morbi' 'nam' 'natoque' 'nec' 'neque' 'netus'\n",
      " 'nibh' 'nisi' 'nisl' 'non' 'nulla' 'nullam' 'nunc' 'odio' 'ornare'\n",
      " 'parturient' 'pellentesque' 'penatibus' 'phasellus' 'platea' 'porta'\n",
      " 'porttitor' 'posuere' 'potenti' 'pretium' 'proin' 'pulvinar' 'purus'\n",
      " 'quam' 'quis' 'rhoncus' 'risus' 'sagittis' 'sapien' 'scelerisque' 'sed'\n",
      " 'sem' 'semper' 'senectus' 'sit' 'sociis' 'sodales' 'suspendisse' 'tellus'\n",
      " 'tempor' 'tempus' 'tincidunt' 'tortor' 'tristique' 'turpis' 'ullamcorper'\n",
      " 'ultricies' 'urna' 'ut' 'varius' 'vel' 'velit' 'venenatis' 'vestibulum'\n",
      " 'vitae' 'vivamus' 'viverra' 'volutpat' 'vulputate']\n"
     ]
    }
   ],
   "source": [
    "#print results\n",
    "print(\"TF-IDF matrix: \",tfid_matrix.toarray())\n",
    "print(\"Feature_names: \",vectorizer.get_feature_names_out())"
   ]
  },
  {
   "cell_type": "code",
   "execution_count": null,
   "id": "cae6df91",
   "metadata": {},
   "outputs": [],
   "source": []
  }
 ],
 "metadata": {
  "kernelspec": {
   "display_name": "Python 3 (ipykernel)",
   "language": "python",
   "name": "python3"
  },
  "language_info": {
   "codemirror_mode": {
    "name": "ipython",
    "version": 3
   },
   "file_extension": ".py",
   "mimetype": "text/x-python",
   "name": "python",
   "nbconvert_exporter": "python",
   "pygments_lexer": "ipython3",
   "version": "3.10.9"
  }
 },
 "nbformat": 4,
 "nbformat_minor": 5
}
